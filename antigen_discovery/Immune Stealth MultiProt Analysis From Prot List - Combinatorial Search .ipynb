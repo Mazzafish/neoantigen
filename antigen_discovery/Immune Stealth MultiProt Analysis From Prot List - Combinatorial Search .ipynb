{
 "cells": [
  {
   "cell_type": "markdown",
   "metadata": {
    "collapsed": false
   },
   "source": [
    "# Conservation Analysis and Epitope Prediction\n",
    "\n",
    "\n",
    "#### Author: C. Mazzaferro, K. Fisch\n",
    "#### Email: cmazzafe@ucsd.edu\n",
    "#### Date: August 2016\n",
    " \n",
    "## Outline of Notebook\n",
    "<a id = \"toc\"></a>\n",
    "1. <a href = \"#background\">Background</a>\n",
    "2. <a href = \"#ConsA\">Conservation Analysis</a>\n",
    "    * <a href = \"#BLAST\">BLAST-P</a>\n",
    "    * <a href = \"#MSA\">Multiple Sequence Alignment</a>\n",
    "    * <a href = \"#Cons\">Conservation Score Prediction</a>\n",
    "3. <a href = \"#ep_pred\">Windowing and New Epitope Prediction</a>\n",
    "    * <a href = \"#clustering\">Epitope Clustering Analysis</a>"
   ]
  },
  {
   "cell_type": "markdown",
   "metadata": {},
   "source": [
    "This workflow aims at finding peptide substitute candidates by swapping 1 AA at a time from a prioritized list of peptides. This prioritized list was found using the workflow - Base Workflow."
   ]
  },
  {
   "cell_type": "markdown",
   "metadata": {},
   "source": [
    "## Finding similar peptides by doing simple AA swaps\n",
    "The peptides will be written to a fasta file which will be sent to netMHCcons. Results will be analyzed subsequentially\n"
   ]
  },
  {
   "cell_type": "code",
   "execution_count": 4,
   "metadata": {
    "collapsed": true
   },
   "outputs": [],
   "source": [
    "import pandas\n",
    "\n",
    "csv_path = '/Users/carlomazzaferro/Desktop/top_peptides_of_interest.csv'\n",
    "high_aa_low_cons_df = pandas.read_csv(csv_path)"
   ]
  },
  {
   "cell_type": "code",
   "execution_count": 5,
   "metadata": {
    "collapsed": false
   },
   "outputs": [],
   "source": [
    "from nepitope import pep_utils\n",
    "fasta_files_dir = '/Users/carlomazzaferro/Desktop/BINF_rand_files/CAS9_stuff/swapping_fasta_files/'\n",
    "pep_utils.find_swaps_write_to_fasta(high_aa_low_cons_df, fasta_files_dir)"
   ]
  },
  {
   "cell_type": "markdown",
   "metadata": {
    "collapsed": false
   },
   "source": [
    "### Load Results From netMHCcons\n",
    "The swaps are sent to netMHCCons, and the results are aggragated under the class FileConsolidation in the module scoring_utils"
   ]
  },
  {
   "cell_type": "code",
   "execution_count": 6,
   "metadata": {
    "collapsed": false
   },
   "outputs": [],
   "source": [
    "from nepitope import scoring_utils, summary_data\n",
    "import glob\n",
    "nmers = [8, 9,10,11]\n",
    "\n",
    "#files saved from netMHCcons as split_*i*_prediction_*n*_mer for each split/nmer\n",
    "filepath = '/Users/carlomazzaferro/Desktop/BINF_rand_files/CAS9_stuff/swapping_fasta_files/swapping_preds/'\n",
    "\n",
    "file_pattern = '_swap_*'\n",
    "\n",
    "aggregate_all = scoring_utils.FileConsolidation.load_batch(filepath, file_pattern)\n",
    "\n",
    "files = glob.glob('/Users/carlomazzaferro/Desktop/BINF_rand_files/CAS9_stuff/swapping_fasta_files/swapping_preds/_s*')\n",
    "original_peps_and_pos = []\n",
    "\n",
    "for file in files:\n",
    "    split_ = file.split('/')[-1]\n",
    "    split_2 = split_.split('_')\n",
    "    original_peps_and_pos.append([split_2[2], split_2[4]])"
   ]
  },
  {
   "cell_type": "markdown",
   "metadata": {},
   "source": [
    "### Return them in a list of dataframes\n",
    "summary_data is the module that performs all the data aggregation on newly found peptides."
   ]
  },
  {
   "cell_type": "code",
   "execution_count": 7,
   "metadata": {
    "collapsed": false
   },
   "outputs": [],
   "source": [
    "list_results = aggregate_all.return_df_list()"
   ]
  },
  {
   "cell_type": "code",
   "execution_count": 8,
   "metadata": {
    "collapsed": false
   },
   "outputs": [],
   "source": [
    "summ_data = summary_data.SummaryData()\n",
    "summ_data_analysis = summ_data.summarize_data_for_each_mhc_pred(list_results, original_peps_and_pos, high_aa_low_cons_df)"
   ]
  },
  {
   "cell_type": "markdown",
   "metadata": {},
   "source": [
    "### Return summary data in a dataframe\n",
    "Other methods and attributes are present as well"
   ]
  },
  {
   "cell_type": "code",
   "execution_count": 9,
   "metadata": {
    "collapsed": false
   },
   "outputs": [
    {
     "data": {
      "text/html": [
       "<div>\n",
       "<table border=\"1\" class=\"dataframe\">\n",
       "  <thead>\n",
       "    <tr style=\"text-align: right;\">\n",
       "      <th></th>\n",
       "      <th>nmer</th>\n",
       "      <th>allele</th>\n",
       "      <th>num high affinity peps</th>\n",
       "      <th>num med affinity peps</th>\n",
       "      <th>num low affinity peps</th>\n",
       "      <th>num no affinity peps</th>\n",
       "      <th>original peptide</th>\n",
       "      <th>original pos</th>\n",
       "      <th>top scoring peptides</th>\n",
       "    </tr>\n",
       "  </thead>\n",
       "  <tbody>\n",
       "    <tr>\n",
       "      <th>3</th>\n",
       "      <td>9</td>\n",
       "      <td>HLA-B0702</td>\n",
       "      <td>81</td>\n",
       "      <td>63</td>\n",
       "      <td>11</td>\n",
       "      <td>25</td>\n",
       "      <td>-PSKKFKVL</td>\n",
       "      <td>40</td>\n",
       "      <td>[-DSKKFKVL, -CSKKFKVL, -WSKKFKVL, -ESKKFKVL, -...</td>\n",
       "    </tr>\n",
       "    <tr>\n",
       "      <th>4</th>\n",
       "      <td>9</td>\n",
       "      <td>HLA-B0801</td>\n",
       "      <td>98</td>\n",
       "      <td>58</td>\n",
       "      <td>22</td>\n",
       "      <td>2</td>\n",
       "      <td>-PSKKFKVL</td>\n",
       "      <td>40</td>\n",
       "      <td>[-PSKKFKVK, -PSKKFKVR, -PSKKFKVN, -PSKKFKVD, -...</td>\n",
       "    </tr>\n",
       "    <tr>\n",
       "      <th>18</th>\n",
       "      <td>9</td>\n",
       "      <td>HLA-A2601</td>\n",
       "      <td>111</td>\n",
       "      <td>37</td>\n",
       "      <td>22</td>\n",
       "      <td>10</td>\n",
       "      <td>NIVDEVA-Y</td>\n",
       "      <td>196</td>\n",
       "      <td>[NIVDEVA-G, NIVDEVA-D, NIVDEVA-N, NIVDEVA-P, N...</td>\n",
       "    </tr>\n",
       "    <tr>\n",
       "      <th>13</th>\n",
       "      <td>8</td>\n",
       "      <td>HLA-A0101</td>\n",
       "      <td>0</td>\n",
       "      <td>6</td>\n",
       "      <td>97</td>\n",
       "      <td>57</td>\n",
       "      <td>IVDEVA-Y</td>\n",
       "      <td>197</td>\n",
       "      <td>[IVDEVA-N, IVDEVA-Q, IVDEVA-G, IVDEVA-K, IVDEV...</td>\n",
       "    </tr>\n",
       "    <tr>\n",
       "      <th>1</th>\n",
       "      <td>9</td>\n",
       "      <td>HLA-A0201</td>\n",
       "      <td>142</td>\n",
       "      <td>13</td>\n",
       "      <td>19</td>\n",
       "      <td>6</td>\n",
       "      <td>-LFGNLIAL</td>\n",
       "      <td>1196</td>\n",
       "      <td>[-HFGNLIAL, -PFGNLIAL, -DFGNLIAL, -RFGNLIAL, -...</td>\n",
       "    </tr>\n",
       "    <tr>\n",
       "      <th>9</th>\n",
       "      <td>11</td>\n",
       "      <td>HLA-B3901</td>\n",
       "      <td>0</td>\n",
       "      <td>46</td>\n",
       "      <td>146</td>\n",
       "      <td>28</td>\n",
       "      <td>HHQDLTLLKAL</td>\n",
       "      <td>1688</td>\n",
       "      <td>[HHQDLTLLKAK, HHQDLTLLKAS, HHQDLTLLKAG, HHQDLT...</td>\n",
       "    </tr>\n",
       "    <tr>\n",
       "      <th>8</th>\n",
       "      <td>8</td>\n",
       "      <td>HLA-B3901</td>\n",
       "      <td>0</td>\n",
       "      <td>18</td>\n",
       "      <td>86</td>\n",
       "      <td>56</td>\n",
       "      <td>HHQDLTLL</td>\n",
       "      <td>1688</td>\n",
       "      <td>[HHQDLTLK, HHQDLTLN, HHQDLTLD, HHQDLTLR, HHQDL...</td>\n",
       "    </tr>\n",
       "    <tr>\n",
       "      <th>10</th>\n",
       "      <td>10</td>\n",
       "      <td>HLA-B3901</td>\n",
       "      <td>0</td>\n",
       "      <td>18</td>\n",
       "      <td>114</td>\n",
       "      <td>68</td>\n",
       "      <td>HQDLTLLKAL</td>\n",
       "      <td>1689</td>\n",
       "      <td>[HQDLTLLKAK, HQDLTLLKAS, HQDLTLLKAG, HQDLTLLKA...</td>\n",
       "    </tr>\n",
       "  </tbody>\n",
       "</table>\n",
       "</div>"
      ],
      "text/plain": [
       "   nmer     allele num high affinity peps num med affinity peps  \\\n",
       "3     9  HLA-B0702                     81                    63   \n",
       "4     9  HLA-B0801                     98                    58   \n",
       "18    9  HLA-A2601                    111                    37   \n",
       "13    8  HLA-A0101                      0                     6   \n",
       "1     9  HLA-A0201                    142                    13   \n",
       "9    11  HLA-B3901                      0                    46   \n",
       "8     8  HLA-B3901                      0                    18   \n",
       "10   10  HLA-B3901                      0                    18   \n",
       "\n",
       "   num low affinity peps num no affinity peps original peptide original pos  \\\n",
       "3                     11                   25        -PSKKFKVL           40   \n",
       "4                     22                    2        -PSKKFKVL           40   \n",
       "18                    22                   10        NIVDEVA-Y          196   \n",
       "13                    97                   57         IVDEVA-Y          197   \n",
       "1                     19                    6        -LFGNLIAL         1196   \n",
       "9                    146                   28      HHQDLTLLKAL         1688   \n",
       "8                     86                   56         HHQDLTLL         1688   \n",
       "10                   114                   68       HQDLTLLKAL         1689   \n",
       "\n",
       "                                 top scoring peptides  \n",
       "3   [-DSKKFKVL, -CSKKFKVL, -WSKKFKVL, -ESKKFKVL, -...  \n",
       "4   [-PSKKFKVK, -PSKKFKVR, -PSKKFKVN, -PSKKFKVD, -...  \n",
       "18  [NIVDEVA-G, NIVDEVA-D, NIVDEVA-N, NIVDEVA-P, N...  \n",
       "13  [IVDEVA-N, IVDEVA-Q, IVDEVA-G, IVDEVA-K, IVDEV...  \n",
       "1   [-HFGNLIAL, -PFGNLIAL, -DFGNLIAL, -RFGNLIAL, -...  \n",
       "9   [HHQDLTLLKAK, HHQDLTLLKAS, HHQDLTLLKAG, HHQDLT...  \n",
       "8   [HHQDLTLK, HHQDLTLN, HHQDLTLD, HHQDLTLR, HHQDL...  \n",
       "10  [HQDLTLLKAK, HQDLTLLKAS, HQDLTLLKAG, HQDLTLLKA...  "
      ]
     },
     "execution_count": 9,
     "metadata": {},
     "output_type": "execute_result"
    }
   ],
   "source": [
    "summ_data_analysis.summary_df.sort_values(by='original pos').head(8)"
   ]
  },
  {
   "cell_type": "markdown",
   "metadata": {},
   "source": [
    "### Write files out"
   ]
  },
  {
   "cell_type": "code",
   "execution_count": 25,
   "metadata": {
    "collapsed": false
   },
   "outputs": [],
   "source": [
    "fasta_dir = '/Users/carlomazzaferro/Desktop/fasta_swaps_top_20_percent.fasta'\n",
    "summ_data_analysis.write_peptides_to_fasta(fasta_dir)"
   ]
  },
  {
   "cell_type": "code",
   "execution_count": 32,
   "metadata": {
    "collapsed": false
   },
   "outputs": [],
   "source": [
    "csv_path = '/Users/carlomazzaferro/Desktop/CCBB_Results_Immune_Stealth_Analysis/summary_results_per_prediction.csv'\n",
    "summ_data_analysis.summary_df.sort_values(by='original pos').to_csv(path_or_buf=csv_path, sep=',')"
   ]
  },
  {
   "cell_type": "code",
   "execution_count": 43,
   "metadata": {
    "collapsed": false
   },
   "outputs": [],
   "source": [
    "basepath = '/Users/carlomazzaferro/Desktop/CCBB_Results_Immune_Stealth_Analysis/csv_for_each_prediction/'\n",
    "for idx, val in enumerate(list_results):\n",
    "    original_pep = original_peps_and_pos[idx][0]\n",
    "    pos = original_peps_and_pos[idx][1]\n",
    "    allele = val.Allele.unique()[0]\n",
    "    nmer = val['n-mer'].unique()[0]\n",
    "    name = \"_\".join([original_pep, pos, allele, str(nmer)])\n",
    "    val['Peptide'] = val['Peptide'].str.replace('X', '-')\n",
    "    write_to_csv(val, basepath + name + '.csv')\n",
    "    "
   ]
  },
  {
   "cell_type": "code",
   "execution_count": 36,
   "metadata": {
    "collapsed": true
   },
   "outputs": [],
   "source": [
    "def write_to_csv(df, path_name):\n",
    "    df.to_csv(path_name, sep=',')\n",
    "    "
   ]
  }
 ],
 "metadata": {
  "anaconda-cloud": {},
  "kernelspec": {
   "display_name": "Python [py35]",
   "language": "python",
   "name": "Python [py35]"
  },
  "language_info": {
   "codemirror_mode": {
    "name": "ipython",
    "version": 3
   },
   "file_extension": ".py",
   "mimetype": "text/x-python",
   "name": "python",
   "nbconvert_exporter": "python",
   "pygments_lexer": "ipython3",
   "version": "3.5.2"
  }
 },
 "nbformat": 4,
 "nbformat_minor": 0
}
