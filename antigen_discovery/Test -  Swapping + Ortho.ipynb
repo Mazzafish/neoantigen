{
 "cells": [
  {
   "cell_type": "code",
   "execution_count": 2,
   "metadata": {
    "collapsed": false
   },
   "outputs": [],
   "source": [
    "import pandas\n",
    "\n",
    "swaps_df_path = '/Users/carlomazzaferro/Desktop/Test_IEDB/newer_pipeline_files/consistent_aws_netMHC40/summary_results_per_prediction.csv'\n",
    "pw_comp_path = '/Users/carlomazzaferro/Desktop/Test_IEDB/newer_pipeline_files/consistent_aws_netMHC40/'\n",
    "\n",
    "swaps_df = pandas.read_csv(swaps_df_path)\n"
   ]
  },
  {
   "cell_type": "code",
   "execution_count": null,
   "metadata": {
    "collapsed": true
   },
   "outputs": [],
   "source": []
  }
 ],
 "metadata": {
  "kernelspec": {
   "display_name": "Python [py35]",
   "language": "python",
   "name": "Python [py35]"
  },
  "language_info": {
   "codemirror_mode": {
    "name": "ipython",
    "version": 3
   },
   "file_extension": ".py",
   "mimetype": "text/x-python",
   "name": "python",
   "nbconvert_exporter": "python",
   "pygments_lexer": "ipython3",
   "version": "3.5.2"
  }
 },
 "nbformat": 4,
 "nbformat_minor": 0
}
